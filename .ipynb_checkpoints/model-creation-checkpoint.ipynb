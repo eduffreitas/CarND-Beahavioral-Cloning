{
 "cells": [
  {
   "cell_type": "markdown",
   "metadata": {},
   "source": [
    "# CarND Behavioral Cloning Project\n",
    "\n",
    "This project is about training a neural network to drive a car on a simulator using data recorded from a humman driver.\n",
    "\n",
    "This notebook will be used to create the model to be used in driving the car on the simulator.\n",
    "\n",
    "The inputs come in three images right, central and left cameras.\n",
    "\n",
    "The first thing to do is to clean, then oganize the dataset, and save it to pickle file. for posterior use.\n",
    "\n",
    "The file driving_log.csv contains steering angles and the left, right and center images associated to it."
   ]
  },
  {
   "cell_type": "code",
   "execution_count": 1,
   "metadata": {
    "collapsed": false
   },
   "outputs": [],
   "source": [
    "import pickle\n",
    "import csv\n",
    "import numpy as np\n",
    "import cv2\n",
    "from sklearn.utils import shuffle\n",
    "import numpy as np\n",
    "from sklearn.model_selection import train_test_split\n",
    "import os.path\n",
    "import matplotlib.pyplot as plt\n",
    "%matplotlib inline\n",
    "\n",
    "np.random.seed(42)"
   ]
  },
  {
   "cell_type": "code",
   "execution_count": 2,
   "metadata": {
    "collapsed": false
   },
   "outputs": [
    {
     "name": "stdout",
     "output_type": "stream",
     "text": [
      "files exist\n"
     ]
    }
   ],
   "source": [
    "\n",
    "\n",
    "if not(os.path.exists('train.csv') and os.path.exists('validation.csv')):\n",
    "\n",
    "    path_to_replace = \"C:\\\\Users\\\\eduardo\\\\Documents\\\\SelfDrivingCar\\\\beta-simulator-windows\\\\beta_simulator_windows\\\\data\"\n",
    "\n",
    "    def ReplaceWrongPath(value):\n",
    "        return value.replace(path_to_replace, \"\").replace(\"\\\\\", \"/\").replace(\" \", \"\")\n",
    "\n",
    "    X_train = []\n",
    "    y_train = []\n",
    "    X_train_left = []\n",
    "    y_train_left = []\n",
    "    X_train_right = []\n",
    "    y_train_right = []\n",
    "\n",
    "    with open('./data/driving_log.csv', 'r') as csv_file_in:\n",
    "\n",
    "        csv_reader = csv.DictReader(csv_file_in)\n",
    "\n",
    "        for row in csv_reader:\n",
    "            steering = float(row['steering'])\n",
    "\n",
    "            #center image\n",
    "            path = './data/' + ReplaceWrongPath(row['center'].strip())        \n",
    "            X_train.append(path)\n",
    "            y_train.append(steering)\n",
    "            continue\n",
    "            \n",
    "            if steering == 0:\n",
    "                continue\n",
    "                \n",
    "            if steering < 0:\n",
    "                #left image\n",
    "                path = './data/' + ReplaceWrongPath(row['left'].strip())\n",
    "                steering_left = steering + 0.2\n",
    "\n",
    "                X_train_left.append(path)\n",
    "                y_train_left.append(steering_left)\n",
    "\n",
    "                #right image\n",
    "                path = './data/' + ReplaceWrongPath(row['right'].strip())\n",
    "                steering_right = steering - 0.2\n",
    "                steering_right = steering_right if steering_right > -1 else -1\n",
    "\n",
    "                X_train_right.append(path)\n",
    "                y_train_right.append(steering_right)\n",
    "            else:\n",
    "                #left image\n",
    "                path = './data/' + ReplaceWrongPath(row['left'].strip())\n",
    "                steering_left = steering + 0.2\n",
    "                steering_left = steering_left if steering_left < 1 else 1\n",
    "\n",
    "                X_train_left.append(path)\n",
    "                y_train_left.append(steering_left)\n",
    "\n",
    "                #right image\n",
    "                path = './data/' + ReplaceWrongPath(row['right'].strip())\n",
    "                steering_right = steering - 0.2\n",
    "\n",
    "                X_train_right.append(path)\n",
    "                y_train_right.append(steering_right)\n",
    "\n",
    "    X_train, y_train = shuffle(X_train, y_train)\n",
    "    X_train, X_validation, y_train, y_validation = train_test_split(X_train, y_train, test_size=0.2, random_state=42)\n",
    "\n",
    "    [X_train.append(item) for item in X_train_left]\n",
    "    [X_train.append(item) for item in X_train_right]\n",
    "    [y_train.append(item) for item in y_train_left]\n",
    "    [y_train.append(item) for item in y_train_right]\n",
    "    \n",
    "    X_train, y_train = shuffle(X_train, y_train)\n",
    "\n",
    "    with open('train.csv', 'w') as csv_file_train:\n",
    "\n",
    "        fieldnames = ['path','steering']\n",
    "        writer = csv.DictWriter(csv_file_train, fieldnames=fieldnames)\n",
    "        writer.writeheader()\n",
    "\n",
    "        for i in range(len(X_train)):\n",
    "            path, steering = X_train[i], y_train[i]\n",
    "            writer.writerow({'path': path, 'steering': steering})\n",
    "\n",
    "    with open('validation.csv', 'w') as csv_file_train:\n",
    "\n",
    "        fieldnames = ['path','steering']\n",
    "        writer = csv.DictWriter(csv_file_train, fieldnames=fieldnames)\n",
    "        writer.writeheader()\n",
    "\n",
    "        for i in range(len(X_validation)):\n",
    "            path, steering = X_validation[i], y_validation[i]\n",
    "            writer.writerow({'path': path, 'steering': steering})\n",
    "\n",
    "    print(\"processing done\")\n",
    "else:\n",
    "    print(\"files exist\")"
   ]
  },
  {
   "cell_type": "markdown",
   "metadata": {},
   "source": [
    "### Load data "
   ]
  },
  {
   "cell_type": "code",
   "execution_count": 3,
   "metadata": {
    "collapsed": false
   },
   "outputs": [
    {
     "name": "stdout",
     "output_type": "stream",
     "text": [
      "Loading done\n"
     ]
    }
   ],
   "source": [
    "import sys\n",
    "\n",
    "def turn_linear_to_logistic(steering, n_classes):\n",
    "    interval = 2/n_classes\n",
    "    classes = []\n",
    "    lower_bound = -1\n",
    "    \n",
    "    for i in range(n_classes):\n",
    "        upper_bound = lower_bound + interval if i < (n_classes-1) else 1\n",
    "        classes.append(1 if steering > lower_bound and steering < upper_bound else 0)\n",
    "        lower_bound += interval\n",
    "        \n",
    "    return np.array(classes)\n",
    "    \n",
    "    \n",
    "break_classes = 21\n",
    "X_train_left = None\n",
    "y_train_left = None\n",
    "X_train_right = None\n",
    "y_train_right = None\n",
    "\n",
    "X_train= []\n",
    "y_train = []\n",
    "\n",
    "with open('train.csv', 'r') as csv_file_train:\n",
    "    \n",
    "    csv_reader = csv.DictReader(csv_file_train)\n",
    "\n",
    "    for row in csv_reader:\n",
    "        X_train.append(row['path'])\n",
    "        y_train.append(float(row['steering']))\n",
    "        \n",
    "\n",
    "X_validation = []\n",
    "y_validation = []\n",
    "\n",
    "with open('validation.csv', 'r') as csv_file_val:\n",
    "    \n",
    "    csv_reader = csv.DictReader(csv_file_val)\n",
    "\n",
    "    for row in csv_reader:\n",
    "        X_validation.append(row['path'])\n",
    "        y_validation.append(float(row['steering']))\n",
    "        \n",
    "print('Loading done')\n",
    "        "
   ]
  },
  {
   "cell_type": "markdown",
   "metadata": {},
   "source": [
    "### Explore data"
   ]
  },
  {
   "cell_type": "code",
   "execution_count": 4,
   "metadata": {
    "collapsed": false
   },
   "outputs": [
    {
     "data": {
      "image/png": "[encoded data removed]",
      "text/plain": [
       "<matplotlib.figure.Figure at 0x7f22c8dca6d8>"
      ]
     },
     "metadata": {},
     "output_type": "display_data"
    }
   ],
   "source": [
    "plt.hist(y_train, bins=70)\n",
    "plt.title(\"Training data\")\n",
    "plt.xlabel(\"Angles\")\n",
    "plt.ylabel(\"# of examples\")\n",
    "plt.show()"
   ]
  },
  {
   "cell_type": "markdown",
   "metadata": {},
   "source": [
    "# Model\n",
    "\n",
    "#### VGG with drop out, batch normalition\n",
    "\n",
    "#### 20 EPOCHS Adam optimizer linear regression\n",
    "\n",
    "#### Validation\n"
   ]
  },
  {
   "cell_type": "markdown",
   "metadata": {
    "collapsed": false
   },
   "source": [
    "from keras.applications.vgg16 import VGG16\n",
    "from keras.models import Model\n",
    "from keras.layers import Lambda, Dense, Activation, Flatten, Input, Dropout, Convolution2D, MaxPooling2D, Cropping2D\n",
    "from keras.layers.normalization import BatchNormalization\n",
    "\n",
    "def get_model():\n",
    "    input_tensor = Input(shape=(160, 320, 3))\n",
    "    croped_input_img = Cropping2D(cropping=((60, 20), (0, 0)))(input_tensor)\n",
    "    croped_input_img = Lambda(lambda x: (x / 255.0) - 0.5)(croped_input_img)\n",
    "    base_model = VGG16(input_tensor=croped_input_img, weights='imagenet', include_top=False)\n",
    "\n",
    "    for layer in base_model.layers:\n",
    "        layer.trainable = False\n",
    "\n",
    "    top_model = base_model.output\n",
    "    top_model = Flatten()(top_model)\n",
    "\n",
    "    top_model = Dense(1024)(top_model)\n",
    "    top_model = BatchNormalization()(top_model)\n",
    "    top_model = Activation('relu')(top_model)\n",
    "    top_model = Dropout(0.5)(top_model)\n",
    "\n",
    "    top_model = Dense(100)(top_model)\n",
    "    top_model = BatchNormalization()(top_model)\n",
    "    top_model = Activation('relu')(top_model)\n",
    "    top_model = Dropout(0.5)(top_model)\n",
    "\n",
    "    top_model = Dense(50)(top_model)\n",
    "    top_model = BatchNormalization()(top_model)\n",
    "    top_model = Activation('relu')(top_model)\n",
    "    top_model = Dropout(0.5)(top_model)\n",
    "\n",
    "    top_model = Dense(10)(top_model)\n",
    "    top_model = BatchNormalization()(top_model)\n",
    "    top_model = Activation('relu')(top_model)\n",
    "    top_model = Dropout(0.5)(top_model)\n",
    "\n",
    "    predictions = Dense(1)(top_model)\n",
    "\n",
    "    model = Model(input=input_tensor, output=predictions)\n",
    "    return model"
   ]
  },
  {
   "cell_type": "code",
   "execution_count": 5,
   "metadata": {
    "collapsed": false
   },
   "outputs": [
    {
     "name": "stderr",
     "output_type": "stream",
     "text": [
      "Using TensorFlow backend.\n"
     ]
    }
   ],
   "source": [
    "from keras.layers import merge, ZeroPadding2D, Cropping2D, Convolution2D, MaxPooling2D, Input, Lambda, Flatten, Dense, Activation, Dropout\n",
    "from keras.models import Model\n",
    "\n",
    "def AddConvLayer(features, kernel, input_layer):\n",
    "    complex_layer = ZeroPadding2D((1,1))(input_layer)\n",
    "    complex_layer = Convolution2D(features, kernel[0], kernel[1], activation='relu')(complex_layer)\n",
    "    #complex_layer = Dropout(0.5)(complex_layer)\n",
    "    complex_layer = ZeroPadding2D((1,1))(complex_layer)\n",
    "    complex_layer = Convolution2D(features, kernel[0], kernel[1], activation='relu')(complex_layer)\n",
    "    #complex_layer = Dropout(0.5)(complex_layer)\n",
    "    complex_layer = MaxPooling2D((2,2), strides=(2,2))(complex_layer)\n",
    "    return complex_layer\n",
    "\n",
    "def AddDenseLayer(neurons, depth, layer):\n",
    "    for i in range(depth):\n",
    "        layer = Dense(neurons, activation='sigmoid')(layer)\n",
    "        layer = Dropout(0.5)(layer)\n",
    "    return layer\n",
    "\n",
    "def AddInceptionModule(input_img):\n",
    "    tower_1 = Convolution2D(64, 1, 1, border_mode='same', activation='relu')(input_img)\n",
    "    tower_1 = Convolution2D(64, 3, 3, border_mode='same', activation='relu')(tower_1)\n",
    "\n",
    "    tower_2 = Convolution2D(64, 1, 1, border_mode='same', activation='relu')(input_img)\n",
    "    tower_2 = Convolution2D(64, 5, 5, border_mode='same', activation='relu')(tower_2)\n",
    "\n",
    "    tower_3 = MaxPooling2D((3, 3), strides=(1, 1), border_mode='same')(input_img)\n",
    "    tower_3 = Convolution2D(64, 1, 1, border_mode='same', activation='relu')(tower_3)\n",
    "\n",
    "    output = merge([tower_1, tower_2, tower_3], mode='concat', concat_axis=1)\n",
    "    return output\n",
    "\n",
    "def get_model():\n",
    "    input_img = Input(shape=(160, 320, 3))\n",
    "    croped_input_img = Cropping2D(cropping=((50, 20), (0, 0)))(input_img)\n",
    "    croped_input_img = Lambda(lambda x: (x / 255.0) - 0.5)(croped_input_img)\n",
    "    \n",
    "    x = AddConvLayer(32, (5, 5), croped_input_img)\n",
    "    x = AddConvLayer(64, (5, 5), x)\n",
    "    x = AddConvLayer(128, (5, 5), x)\n",
    "    x = AddConvLayer(256, (3, 3), x)\n",
    "    x = AddConvLayer(512, (3, 3), x)\n",
    "    x = AddInceptionModule(x)\n",
    "    x = Flatten()(x)\n",
    "\n",
    "    output = AddDenseLayer(1024, 1, x)\n",
    "    output = AddDenseLayer(84, 1, output)\n",
    "    output = AddDenseLayer(50, 1, output)\n",
    "\n",
    "    predictions = Dense(10, activation='sigmoid')(output)\n",
    "    predictions = Dropout(0.5)(predictions)\n",
    "    predictions = Dense(1)(predictions)\n",
    "    \n",
    "    model = Model(input=input_img, output=predictions)\n",
    "    return model"
   ]
  },
  {
   "cell_type": "markdown",
   "metadata": {
    "collapsed": false
   },
   "source": [
    "from keras.layers import merge, ZeroPadding2D, Cropping2D, Convolution2D, MaxPooling2D, Input, Lambda, Flatten, Dense, Activation, Dropout\n",
    "from keras.layers.advanced_activations import LeakyReLU\n",
    "from keras.layers.normalization import BatchNormalization\n",
    "from keras.models import Model\n",
    "\n",
    "def AddDenseLayer(neurons, depth, layer):\n",
    "    for i in range(depth):\n",
    "        layer = Dense(neurons)(layer)\n",
    "        layer = BatchNormalization()(layer)\n",
    "        layer = Activation('sigmoid')(layer)\n",
    "        layer = Dropout(0.5)(layer)\n",
    "    return layer\n",
    "\n",
    "def get_model():\n",
    "    input_img = Input(shape=(160, 320, 3))\n",
    "    croped_input_img = Cropping2D(cropping=((50, 20), (0, 0)))(input_img)\n",
    "    croped_input_img = Lambda(lambda x: (x / 255.0) - 0.5)(croped_input_img)\n",
    "    \n",
    "    x = ZeroPadding2D((1,1))(croped_input_img)\n",
    "    x = Convolution2D(8, 5, 5)(x)\n",
    "    x = BatchNormalization()(x)\n",
    "    x = LeakyReLU()(x)    \n",
    "    x = Dropout(0.5)(x)\n",
    "    x = MaxPooling2D((2,2), strides=(2,2))(x)\n",
    "    \n",
    "    x = ZeroPadding2D((1,1))(x)\n",
    "    x = Convolution2D(16, 5, 5)(x)\n",
    "    x = BatchNormalization()(x)\n",
    "    x = LeakyReLU()(x)\n",
    "    x = Dropout(0.5)(x)\n",
    "    x = MaxPooling2D((2,2), strides=(2,2))(x)\n",
    "    \n",
    "    x = ZeroPadding2D((1,1))(x)\n",
    "    x = Convolution2D(32, 5, 5)(x)\n",
    "    x = BatchNormalization()(x)\n",
    "    x = LeakyReLU()(x)\n",
    "    x = Dropout(0.5)(x)\n",
    "    x = MaxPooling2D((2,2), strides=(2,2))(x)\n",
    "    \n",
    "    x = ZeroPadding2D((1,1))(x)\n",
    "    x = Convolution2D(64, 3, 3)(x)\n",
    "    x = BatchNormalization()(x)\n",
    "    x = LeakyReLU()(x)\n",
    "    x = Dropout(0.5)(x)\n",
    "    x = MaxPooling2D((2,2), strides=(2,2))(x)\n",
    "    \n",
    "    x = ZeroPadding2D((1,1))(x)\n",
    "    x = Convolution2D(128, 3, 3)(x)\n",
    "    x = BatchNormalization()(x)\n",
    "    x = LeakyReLU()(x)    \n",
    "    x = Dropout(0.5)(x)\n",
    "    x = MaxPooling2D((2,2), strides=(2,2))(x)\n",
    "    \n",
    "    x = Flatten()(x)\n",
    "\n",
    "    output = AddDenseLayer(4064, 1, x)\n",
    "    output = AddDenseLayer(2032, 1, x)\n",
    "    output = AddDenseLayer(100, 1, x)    \n",
    "    predictions = Dense(1)(output)\n",
    "    \n",
    "    model = Model(input=input_img, output=predictions)\n",
    "    return model"
   ]
  },
  {
   "cell_type": "code",
   "execution_count": 6,
   "metadata": {
    "collapsed": false
   },
   "outputs": [],
   "source": [
    "def process_line(row):\n",
    "    #b,g,r = cv2.split(cv2.imread(row['path']))\n",
    "    #img = np.array(cv2.merge([r,g,b]))\n",
    "    img = cv2.imread(row['path'])\n",
    "    steering = float(row['steering'])\n",
    "    return [img, steering]\n",
    "\n",
    "def generate_arrays_from_file(path, batch_size = 20, flip=True):\n",
    "    while 1:\n",
    "        global X_train\n",
    "        global y_train\n",
    "        X_train, y_train = shuffle(X_train, y_train)\n",
    "        Xs = []\n",
    "        ys = []        \n",
    "        for i in range(len(X_train)):\n",
    "            if (len(Xs) == batch_size):\n",
    "                yield (np.array(Xs), np.array(ys))\n",
    "                Xs = []\n",
    "                ys = []\n",
    "                \n",
    "            x, y = process_line({'path':X_train[i], 'steering':y_train[i]})\n",
    "            Xs.append(x)\n",
    "            ys.append(y)\n",
    "            \n",
    "            if flip:\n",
    "                if (len(Xs) == batch_size):\n",
    "                    yield (np.array(Xs), np.array(ys))\n",
    "                    Xs = []\n",
    "                    ys = []\n",
    "                    \n",
    "                x_flipped = np.fliplr(x)\n",
    "                y_filpped = -y\n",
    "\n",
    "                Xs.append(x_flipped)\n",
    "                ys.append(y_filpped)\n",
    "\n",
    "        yield (np.array(Xs), np.array(ys))\n",
    "            "
   ]
  },
  {
   "cell_type": "code",
   "execution_count": 7,
   "metadata": {
    "collapsed": false
   },
   "outputs": [
    {
     "name": "stdout",
     "output_type": "stream",
     "text": [
      "train records:  11815\n",
      "validation records:  2954\n"
     ]
    }
   ],
   "source": [
    "train_rows = len(X_train)\n",
    "validation_rows = len(X_validation)\n",
    "    \n",
    "print('train records: ', train_rows)\n",
    "print('validation records: ', validation_rows)"
   ]
  },
  {
   "cell_type": "code",
   "execution_count": null,
   "metadata": {
    "collapsed": false
   },
   "outputs": [
    {
     "name": "stdout",
     "output_type": "stream",
     "text": [
      "Epoch 1/30\n",
      "23600/23630 [============================>.] - ETA: 0s - loss: 0.5447Epoch 00000: val_loss improved from inf to 0.18945, saving model to model1.h5\n",
      "23630/23630 [==============================] - 699s - loss: 0.5445 - val_loss: 0.1894\n",
      "Epoch 2/30\n",
      "23600/23630 [============================>.] - ETA: 0s - loss: 0.3329Epoch 00001: val_loss improved from 0.18945 to 0.16499, saving model to model1.h5\n",
      "23630/23630 [==============================] - 670s - loss: 0.3328 - val_loss: 0.1650\n",
      "Epoch 3/30\n",
      "23600/23630 [============================>.] - ETA: 0s - loss: 0.2399Epoch 00002: val_loss improved from 0.16499 to 0.15378, saving model to model1.h5\n",
      "23630/23630 [==============================] - 670s - loss: 0.2398 - val_loss: 0.1538\n",
      "Epoch 4/30\n",
      "23600/23630 [============================>.] - ETA: 0s - loss: 0.1978Epoch 00003: val_loss improved from 0.15378 to 0.15198, saving model to model1.h5\n",
      "23630/23630 [==============================] - 670s - loss: 0.1979 - val_loss: 0.1520\n",
      "Epoch 5/30\n",
      "23600/23630 [============================>.] - ETA: 0s - loss: 0.1775Epoch 00004: val_loss improved from 0.15198 to 0.14985, saving model to model1.h5\n",
      "23630/23630 [==============================] - 671s - loss: 0.1774 - val_loss: 0.1498\n",
      "Epoch 6/30\n",
      "23600/23630 [============================>.] - ETA: 0s - loss: 0.1675Epoch 00005: val_loss improved from 0.14985 to 0.14183, saving model to model1.h5\n",
      "23630/23630 [==============================] - 669s - loss: 0.1675 - val_loss: 0.1418\n",
      "Epoch 7/30\n",
      "23600/23630 [============================>.] - ETA: 0s - loss: 0.1595Epoch 00006: val_loss improved from 0.14183 to 0.13503, saving model to model1.h5\n",
      "23630/23630 [==============================] - 669s - loss: 0.1595 - val_loss: 0.1350\n",
      "Epoch 8/30\n",
      "23600/23630 [============================>.] - ETA: 0s - loss: 0.1520Epoch 00007: val_loss improved from 0.13503 to 0.13462, saving model to model1.h5\n",
      "23630/23630 [==============================] - 669s - loss: 0.1520 - val_loss: 0.1346\n",
      "Epoch 9/30\n",
      "23600/23630 [============================>.] - ETA: 0s - loss: 0.1454Epoch 00008: val_loss improved from 0.13462 to 0.12660, saving model to model1.h5\n",
      "23630/23630 [==============================] - 669s - loss: 0.1454 - val_loss: 0.1266\n",
      "Epoch 10/30\n",
      "23600/23630 [============================>.] - ETA: 0s - loss: 0.1399Epoch 00009: val_loss improved from 0.12660 to 0.11898, saving model to model1.h5\n",
      "23630/23630 [==============================] - 669s - loss: 0.1398 - val_loss: 0.1190\n",
      "Epoch 11/30\n",
      "23600/23630 [============================>.] - ETA: 0s - loss: 0.1369Epoch 00010: val_loss improved from 0.11898 to 0.11386, saving model to model1.h5\n",
      "23630/23630 [==============================] - 669s - loss: 0.1369 - val_loss: 0.1139\n",
      "Epoch 12/30\n",
      "23600/23630 [============================>.] - ETA: 0s - loss: 0.1354Epoch 00011: val_loss did not improve\n",
      "23630/23630 [==============================] - 669s - loss: 0.1354 - val_loss: 0.1158\n",
      "Epoch 13/30\n",
      "23600/23630 [============================>.] - ETA: 0s - loss: 0.1330Epoch 00012: val_loss improved from 0.11386 to 0.10828, saving model to model1.h5\n",
      "23630/23630 [==============================] - 669s - loss: 0.1331 - val_loss: 0.1083\n",
      "Epoch 14/30\n",
      "23600/23630 [============================>.] - ETA: 0s - loss: 0.1328Epoch 00013: val_loss did not improve\n",
      "23630/23630 [==============================] - 669s - loss: 0.1327 - val_loss: 0.1123\n",
      "Epoch 15/30\n",
      "  300/23630 [..............................] - ETA: 605s - loss: 0.1283"
     ]
    }
   ],
   "source": [
    "from keras.optimizers import RMSprop, Adam\n",
    "from keras.callbacks import ModelCheckpoint\n",
    "\n",
    "model = get_model()\n",
    "optimizer = RMSprop(lr=0.0001)\n",
    "model.compile(loss='mean_absolute_error', optimizer=optimizer)\n",
    "checkpoint = ModelCheckpoint('model1.h5', monitor='val_loss', verbose=1, save_best_only=True,\n",
    "                                 save_weights_only=False, mode='auto')\n",
    "history = model.fit_generator(\n",
    "    generate_arrays_from_file('train.csv',batch_size=100), \n",
    "    samples_per_epoch=train_rows*2, \n",
    "    nb_epoch=30, \n",
    "    validation_data=generate_arrays_from_file('validation.csv', batch_size=10, flip=True),\n",
    "    nb_val_samples=validation_rows*2, \n",
    "    callbacks=[checkpoint])"
   ]
  },
  {
   "cell_type": "code",
   "execution_count": null,
   "metadata": {
    "collapsed": true
   },
   "outputs": [],
   "source": [
    "plt.plot(history.history['loss'])\n",
    "plt.plot(history.history['val_loss'])\n",
    "plt.title('model loss')\n",
    "plt.ylabel('loss')\n",
    "plt.xlabel('epoch')\n",
    "plt.legend(['train', 'test'], loc='upper left')\n",
    "plt.show()"
   ]
  },
  {
   "cell_type": "code",
   "execution_count": null,
   "metadata": {
    "collapsed": false
   },
   "outputs": [],
   "source": [
    "loss = 0\n",
    "for i in range(len(X_validation)):\n",
    "    val = X_validation[i]\n",
    "    y = y_validation[i]\n",
    "    imgs = []\n",
    "    imgs.append(process_line({'path':val, 'steering':y})[0])\n",
    "    pred = model.predict(np.array(imgs))\n",
    "    loss += abs(y - pred[0][0])\n",
    "    print('Truth: ', y, 'Pred: ', pred[0][0], 'Error: ', (y - pred[0][0]), 'Loss: ', loss/(i+1))"
   ]
  },
  {
   "cell_type": "code",
   "execution_count": null,
   "metadata": {
    "collapsed": false
   },
   "outputs": [],
   "source": [
    "#for layer in model.layers:\n",
    "#    layer.name.encode('utf8')\n",
    "    \n",
    "    \n",
    "#model.save('model.h5')\n"
   ]
  },
  {
   "cell_type": "code",
   "execution_count": null,
   "metadata": {
    "collapsed": false
   },
   "outputs": [],
   "source": [
    "#from keras.models import load_model, model_from_json\n",
    "\n",
    "#json_file = open('model.json', 'r')\n",
    "#loaded_model_json = json_file.read()\n",
    "#json_file.close()\n",
    "#loaded_model = model_from_json(loaded_model_json)\n",
    "# load weights into new model\n",
    "#model.load_weights(\"model.h5\")"
   ]
  },
  {
   "cell_type": "code",
   "execution_count": null,
   "metadata": {
    "collapsed": true
   },
   "outputs": [],
   "source": [
    "#for layer in model.layers:\n",
    "#    layer.trainable = True"
   ]
  },
  {
   "cell_type": "code",
   "execution_count": null,
   "metadata": {
    "collapsed": false
   },
   "outputs": [],
   "source": [
    "#model = get_model()\n",
    "#json_file = open('model.json', 'r')\n",
    "#loaded_model_json = json_file.read()\n",
    "#json_file.close()\n",
    "#loaded_model = model_from_json(loaded_model_json)\n",
    "# load weights into new model\n",
    "#model.load_weights(\"model.h5\")"
   ]
  },
  {
   "cell_type": "code",
   "execution_count": null,
   "metadata": {
    "collapsed": true
   },
   "outputs": [],
   "source": []
  }
 ],
 "metadata": {
  "anaconda-cloud": {},
  "kernelspec": {
   "display_name": "Python 3",
   "language": "python",
   "name": "python3"
  },
  "language_info": {
   "codemirror_mode": {
    "name": "ipython",
    "version": 3
   },
   "file_extension": ".py",
   "mimetype": "text/x-python",
   "name": "python",
   "nbconvert_exporter": "python",
   "pygments_lexer": "ipython3",
   "version": "3.5.2"
  },
  "widgets": {
   "state": {},
   "version": "1.1.2"
  }
 },
 "nbformat": 4,
 "nbformat_minor": 1
}
