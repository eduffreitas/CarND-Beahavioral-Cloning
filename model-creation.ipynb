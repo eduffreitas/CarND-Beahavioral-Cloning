{
 "cells": [
  {
   "cell_type": "markdown",
   "metadata": {},
   "source": [
    "# CarND Behavioral Cloning Project\n",
    "\n",
    "This project is about training a neural network to drive a car on a simulator using data recorded from a humman driver.\n",
    "\n",
    "This notebook will be used to create the model to be used in driving the car on the simulator.\n",
    "\n",
    "The inputs come in three images right, central and left cameras.\n",
    "\n",
    "The first thing to do is to clean, then oganize the dataset, and save it to pickle file. for posterior use.\n",
    "\n",
    "The file driving_log.csv contains steering angles and the left, right and center images associated to it."
   ]
  },
  {
   "cell_type": "code",
   "execution_count": 1,
   "metadata": {
    "collapsed": true
   },
   "outputs": [],
   "source": [
    "import pickle\n",
    "import csv\n",
    "import numpy as np\n",
    "import cv2\n",
    "from sklearn.utils import shuffle\n",
    "import numpy as np\n",
    "from sklearn.model_selection import train_test_split\n",
    "import os.path\n",
    "import matplotlib.pyplot as plt\n",
    "%matplotlib inline"
   ]
  },
  {
   "cell_type": "code",
   "execution_count": 2,
   "metadata": {
    "collapsed": false
   },
   "outputs": [
    {
     "name": "stdout",
     "output_type": "stream",
     "text": [
      "processing done\n"
     ]
    }
   ],
   "source": [
    "\n",
    "\n",
    "if not(os.path.exists('train.csv') and os.path.exists('validation.csv')):\n",
    "\n",
    "    path_to_replace = \"C:\\\\Users\\\\eduardo\\\\Documents\\\\SelfDrivingCar\\\\simulator-windows-64\\\\\"\n",
    "\n",
    "    def ReplaceWrongPath(value):\n",
    "        return value.replace(path_to_replace, \"\").replace(\"\\\\\", \"/\").replace(\" data\", \"data\")\n",
    "\n",
    "    X_train = []\n",
    "    y_train = []\n",
    "    X_train_left = []\n",
    "    y_train_left = []\n",
    "    X_train_right = []\n",
    "    y_train_right = []\n",
    "\n",
    "    with open('./data/driving_log.csv', 'r') as csv_file_in:\n",
    "\n",
    "        csv_reader = csv.DictReader(csv_file_in)\n",
    "\n",
    "        for row in csv_reader:\n",
    "            steering = float(row['steering'])\n",
    "\n",
    "            #center image\n",
    "            path = './data/' + ReplaceWrongPath(row['center'].strip())        \n",
    "            X_train.append(path)\n",
    "            y_train.append(steering)\n",
    "\n",
    "            \n",
    "            if steering == 0:\n",
    "                continue\n",
    "\n",
    "            if steering < 0:\n",
    "                #left image\n",
    "                path = './data/' + ReplaceWrongPath(row['left'].strip())\n",
    "                steering_left = steering * 0.7\n",
    "\n",
    "                X_train_left.append(path)\n",
    "                y_train_left.append(steering_left)\n",
    "\n",
    "               #right image\n",
    "                path = './data/' + ReplaceWrongPath(row['right'].strip())\n",
    "                steering_right = steering * 1.3\n",
    "                steering_right = steering_right if steering_right > 1 else 1\n",
    "\n",
    "                X_train_right.append(path)\n",
    "                y_train_right.append(steering_right)\n",
    "            else:\n",
    "                #left image\n",
    "                path = './data/' + ReplaceWrongPath(row['left'].strip())\n",
    "                steering_left = steering * 1.3\n",
    "                steering_left = steering_left if steering_left < -1 else -1\n",
    "\n",
    "                X_train_left.append(path)\n",
    "                y_train_left.append(steering_left)\n",
    "\n",
    "                #right image\n",
    "                path = './data/' + ReplaceWrongPath(row['right'].strip())\n",
    "                steering_right = steering * 0.7\n",
    "\n",
    "                X_train_right.append(path)\n",
    "                y_train_right.append(steering_right)\n",
    "\n",
    "    X_train, y_train = shuffle(X_train, y_train)\n",
    "    X_train, X_validation, y_train, y_validation = train_test_split(X_train, y_train, test_size=0.2, random_state=42)\n",
    "\n",
    "    [X_train.append(item) for item in X_train_left]\n",
    "    [X_train.append(item) for item in X_train_right]\n",
    "    [y_train.append(item) for item in y_train_left]\n",
    "    [y_train.append(item) for item in y_train_right]\n",
    "    \n",
    "    X_train, y_train = shuffle(X_train, y_train)\n",
    "\n",
    "    with open('train.csv', 'w') as csv_file_train:\n",
    "\n",
    "        fieldnames = ['path','steering']\n",
    "        writer = csv.DictWriter(csv_file_train, fieldnames=fieldnames)\n",
    "        writer.writeheader()\n",
    "\n",
    "        for i in range(len(X_train)):\n",
    "            path, steering = X_train[i], y_train[i]\n",
    "            writer.writerow({'path': path, 'steering': steering})\n",
    "\n",
    "    with open('validation.csv', 'w') as csv_file_train:\n",
    "\n",
    "        fieldnames = ['path','steering']\n",
    "        writer = csv.DictWriter(csv_file_train, fieldnames=fieldnames)\n",
    "        writer.writeheader()\n",
    "\n",
    "        for i in range(len(X_validation)):\n",
    "            path, steering = X_validation[i], y_validation[i]\n",
    "            writer.writerow({'path': path, 'steering': steering})\n",
    "\n",
    "    print(\"processing done\")\n",
    "else:\n",
    "    print(\"files exist\")"
   ]
  },
  {
   "cell_type": "markdown",
   "metadata": {},
   "source": [
    "### Load data "
   ]
  },
  {
   "cell_type": "code",
   "execution_count": 3,
   "metadata": {
    "collapsed": false
   },
   "outputs": [],
   "source": [
    "import sys\n",
    "\n",
    "X_train_left = None\n",
    "y_train_left = None\n",
    "X_train_right = None\n",
    "y_train_right = None\n",
    "\n",
    "X_train= []\n",
    "y_train = []\n",
    "\n",
    "with open('train.csv', 'r') as csv_file_train:\n",
    "    \n",
    "    csv_reader = csv.DictReader(csv_file_train)\n",
    "\n",
    "    for row in csv_reader:\n",
    "        try:\n",
    "            b,g,r = cv2.split(cv2.imread(row['path']))\n",
    "            X_train.append(row['path'])\n",
    "            y_train.append(float(row['steering']))\n",
    "        except:\n",
    "            print(\"Unexpected error:\", sys.exc_info()[0])\n",
    "            print(row['path'])\n",
    "            print(' ')\n",
    "        \n",
    "\n",
    "X_validation = []\n",
    "y_validation = []\n",
    "\n",
    "with open('validation.csv', 'r') as csv_file_val:\n",
    "    \n",
    "    csv_reader = csv.DictReader(csv_file_val)\n",
    "\n",
    "    for row in csv_reader:\n",
    "        try:\n",
    "            b,g,r = cv2.split(cv2.imread(row['path']))\n",
    "            X_validation.append(row['path'])\n",
    "            y_validation.append(float(row['steering']))\n",
    "        except:\n",
    "            print(\"Unexpected error:\", sys.exc_info()[0])\n",
    "            print(row['path'])\n",
    "            print(' ')\n",
    "        "
   ]
  },
  {
   "cell_type": "markdown",
   "metadata": {},
   "source": [
    "### Explore data"
   ]
  },
  {
   "cell_type": "code",
   "execution_count": 4,
   "metadata": {
    "collapsed": false
   },
   "outputs": [
    {
     "name": "stdout",
     "output_type": "stream",
     "text": [
      "1.0\n",
      "-1.0\n"
     ]
    },
    {
     "data": {
      "image/png": "[encoded data removed]",
      "text/plain": [
       "<matplotlib.figure.Figure at 0x7f24d08766a0>"
      ]
     },
     "metadata": {},
     "output_type": "display_data"
    }
   ],
   "source": [
    "print (max(np.array(y_train)))\n",
    "print (min(np.array(y_train)))\n",
    "\n",
    "plt.hist(np.array(y_train), bins=20)\n",
    "plt.title(\"Training data\")\n",
    "plt.xlabel(\"Angles\")\n",
    "plt.ylabel(\"# of examples\")\n",
    "plt.show()"
   ]
  },
  {
   "cell_type": "markdown",
   "metadata": {},
   "source": [
    "\n",
    "### Normalize"
   ]
  },
  {
   "cell_type": "code",
   "execution_count": 5,
   "metadata": {
    "collapsed": false
   },
   "outputs": [],
   "source": [
    "def normalize(image_data):\n",
    "    a = -0.5\n",
    "    b = 0.5\n",
    "    img_min = 0\n",
    "    img_max = 255\n",
    "    return a + ( ( (image_data - img_min)*(b - a) )/( img_max - img_min ) )"
   ]
  },
  {
   "cell_type": "markdown",
   "metadata": {},
   "source": [
    "# Model\n",
    "\n",
    "#### VGG with drop out, batch normalition\n",
    "\n",
    "#### 20 EPOCHS Adam optimizer linear regression\n",
    "\n",
    "#### Validation\n"
   ]
  },
  {
   "cell_type": "markdown",
   "metadata": {
    "collapsed": false
   },
   "source": [
    "from keras.applications.vgg16 import VGG16\n",
    "from keras.preprocessing import image\n",
    "from keras.applications.vgg16 import preprocess_input\n",
    "from keras.models import Model\n",
    "from keras.layers import Dense, Activation, Flatten, Input, Dropout, Convolution2D, MaxPooling2D\n",
    "from keras.layers.normalization import BatchNormalization\n",
    "\n",
    "input_tensor = Input(shape=(160, 320, 3))\n",
    "croped_input_img = Cropping2D(cropping=((60, 20), (0, 0)))(input_tensor)\n",
    "base_model = VGG16(input_tensor=croped_input_img, weights='imagenet', include_top=False)\n",
    "\n",
    "for layer in base_model.layers:\n",
    "    layer.trainable = False\n",
    "    \n",
    "top_model = base_model.output\n",
    "top_model = Flatten()(top_model)\n",
    "top_model = Dense(1024)(top_model)\n",
    "top_model = BatchNormalization()(top_model)\n",
    "top_model = Activation('relu')(top_model)\n",
    "top_model = Dropout(0.5)(top_model)\n",
    "top_model = Dense(1024)(top_model)\n",
    "top_model = BatchNormalization()(top_model)\n",
    "top_model = Activation('relu')(top_model)\n",
    "top_model = Dropout(0.5)(top_model)\n",
    "top_model = Dense(1)(top_model)\n",
    "top_model = BatchNormalization()(top_model)\n",
    "predictions = Activation('tanh')(top_model)\n",
    "\n",
    "model = Model(input=input_tensor, output=predictions)"
   ]
  },
  {
   "cell_type": "code",
   "execution_count": 6,
   "metadata": {
    "collapsed": false
   },
   "outputs": [
    {
     "name": "stderr",
     "output_type": "stream",
     "text": [
      "Using TensorFlow backend.\n"
     ]
    }
   ],
   "source": [
    "from keras.layers import merge, Cropping2D, Convolution2D, MaxPooling2D, Input, Flatten, Dense, Activation\n",
    "from keras.models import Model\n",
    "\n",
    "input_img = Input(shape=(160, 320, 3))\n",
    "croped_input_img = Cropping2D(cropping=((60, 20), (0, 0)))(input_img)\n",
    "\n",
    "tower_1 = Convolution2D(20, 8, 8, activation='relu')(croped_input_img)\n",
    "tower_1 = MaxPooling2D((2, 2))(tower_1)\n",
    "tower_1 = Convolution2D(30, 5, 5, activation='relu')(tower_1)\n",
    "tower_1 = MaxPooling2D((2, 2))(tower_1)\n",
    "tower_1 = Convolution2D(40, 5, 5, activation='relu')(tower_1)\n",
    "tower_1 = MaxPooling2D((2, 2))(tower_1)\n",
    "\n",
    "tower_1 = Flatten()(tower_1)\n",
    "tower_1 = Dense(1000)(tower_1)\n",
    "tower_1 = Activation('relu')(tower_1)\n",
    "\n",
    "tower_2 = Convolution2D(20, 3, 3, activation='relu')(croped_input_img)\n",
    "tower_2 = MaxPooling2D((2, 2))(tower_2)\n",
    "tower_2 = Convolution2D(30, 3, 3, activation='relu')(tower_2)\n",
    "tower_2 = MaxPooling2D((2, 2))(tower_2)\n",
    "tower_2 = Convolution2D(40, 3, 3, activation='relu')(tower_2)\n",
    "tower_2 = MaxPooling2D((2, 2))(tower_2)\n",
    "tower_2 = Convolution2D(40, 3, 3, activation='relu')(tower_2)\n",
    "tower_2 = MaxPooling2D((2, 2))(tower_2)\n",
    "\n",
    "tower_2 = Flatten()(tower_2)\n",
    "tower_2 = Dense(1000)(tower_2)\n",
    "tower_2 = Activation('relu')(tower_2)\n",
    "tower_2 = Dense(1000)(tower_2)\n",
    "tower_2 = Activation('relu')(tower_2)\n",
    "tower_2 = Dense(1000)(tower_2)\n",
    "tower_2 = Activation('relu')(tower_2)\n",
    "\n",
    "tower_3 = Convolution2D(20, 1, 1, activation='relu')(croped_input_img)\n",
    "tower_3 = MaxPooling2D((2, 2))(tower_3)\n",
    "tower_3 = Convolution2D(30, 2, 2, activation='relu')(tower_3)\n",
    "tower_3 = MaxPooling2D((2, 2))(tower_3)\n",
    "tower_3 = Convolution2D(30, 1, 1, activation='relu')(tower_3)\n",
    "tower_3 = MaxPooling2D((2, 2))(tower_3)\n",
    "tower_3 = Convolution2D(40, 1, 1, activation='relu')(tower_3)\n",
    "tower_3 = MaxPooling2D((2, 2))(tower_3)\n",
    "tower_3 = Convolution2D(40, 2, 2, activation='relu')(tower_3)\n",
    "tower_3 = MaxPooling2D((2, 2))(tower_3)\n",
    "\n",
    "tower_3 = Flatten()(tower_3)\n",
    "tower_3 = Dense(1000)(tower_3)\n",
    "tower_3 = Activation('relu')(tower_3)\n",
    "tower_3 = Dense(1000)(tower_3)\n",
    "tower_3 = Activation('relu')(tower_3)\n",
    "tower_3 = Dense(1000)(tower_3)\n",
    "tower_3 = Activation('relu')(tower_3)\n",
    "\n",
    "output = merge([tower_1, tower_2, tower_3], mode='concat', concat_axis=1)\n",
    "\n",
    "predictions = Dense(1)(output)\n",
    "predictions = Activation('tanh')(predictions)\n",
    "\n",
    "model = Model(input=input_img, output=predictions)"
   ]
  },
  {
   "cell_type": "code",
   "execution_count": 7,
   "metadata": {
    "collapsed": false
   },
   "outputs": [],
   "source": [
    "def process_line(row, normalize_feature=True):\n",
    "    b,g,r = cv2.split(cv2.imread(row['path']))\n",
    "    img = np.array(cv2.merge([r,g,b]))\n",
    "    \n",
    "    if normalize_feature:\n",
    "        img = normalize(img)\n",
    "        \n",
    "    steering = float(row['steering'])            \n",
    "    return [img, steering]\n",
    "\n",
    "def generate_arrays_from_file(path, batch_size = 20, total=0):\n",
    "    while 1:\n",
    "        global X_train\n",
    "        global y_train\n",
    "        X_train, y_train = shuffle(X_train, y_train)\n",
    "        Xs = []\n",
    "        ys = []        \n",
    "        for i in range(len(X_train)):\n",
    "            if (len(Xs) == batch_size):\n",
    "                yield (np.array(Xs), np.array(ys))\n",
    "                Xs = []\n",
    "                ys = []\n",
    "\n",
    "            x, y = process_line({'path':X_train[i], 'steering':y_train[i]})\n",
    "            Xs.append(x)\n",
    "            ys.append(y)\n",
    "\n",
    "        yield (np.array(Xs), np.array(ys))\n",
    "            "
   ]
  },
  {
   "cell_type": "markdown",
   "metadata": {
    "collapsed": false
   },
   "source": [
    "from keras.layers import Cropping2D\n",
    "from keras.models import Sequential\n",
    "\n",
    "model = Sequential()\n",
    "model.add(Cropping2D(cropping=((60, 20), (0, 0)), input_shape=(160, 320, 3)))\n",
    "# now model.output_shape == (None, 3, 24, 20)\n",
    "#model.add(Convolution2D(1, 3, 3, border_mode='same))\n",
    "#model.add(Cropping2D(cropping=((2, 2), (2, 2))))\n",
    "# now model.output_shape == (None, 64, 20, 16)\n",
    "imgs = []\n",
    "img0, angle0 = process_line({'path':X_train[1000], 'steering':y_train[1000]}, normalize_feature=False)\n",
    "img1, angle1 = process_line({'path':X_train[1], 'steering':y_train[1]}, normalize_feature=False)\n",
    "imgs.append(img0)\n",
    "#imgs.append(img1)\n",
    "\n",
    "processed_img = model.predict(np.array(imgs))\n",
    "print(np.shape(processed_img))\n",
    "\n",
    "plt.imshow(processed_img[0])\n",
    "\n",
    "                        "
   ]
  },
  {
   "cell_type": "code",
   "execution_count": null,
   "metadata": {
    "collapsed": false
   },
   "outputs": [
    {
     "name": "stdout",
     "output_type": "stream",
     "text": [
      "train records:  13778\n",
      "validation records:  1608\n"
     ]
    }
   ],
   "source": [
    "train_rows = len(X_train)\n",
    "validation_rows = len(X_validation)\n",
    "    \n",
    "print('train records: ', train_rows)\n",
    "print('validation records: ', validation_rows)"
   ]
  },
  {
   "cell_type": "code",
   "execution_count": null,
   "metadata": {
    "collapsed": false
   },
   "outputs": [
    {
     "name": "stdout",
     "output_type": "stream",
     "text": [
      "Epoch 1/10\n",
      "10624/13778 [======================>.......] - ETA: 36s - loss: 1.2635 - acc: 0.1320"
     ]
    }
   ],
   "source": [
    "from keras.optimizers import RMSprop\n",
    "optimizer = RMSprop(lr=0.001)\n",
    "model.compile(loss='mean_squared_error', metrics=['accuracy'], optimizer=optimizer)\n",
    "history = model.fit_generator(generate_arrays_from_file('train.csv',batch_size=128), samples_per_epoch=train_rows, nb_epoch=10, validation_data=generate_arrays_from_file('validation.csv', batch_size=1),nb_val_samples=validation_rows)"
   ]
  },
  {
   "cell_type": "code",
   "execution_count": null,
   "metadata": {
    "collapsed": true
   },
   "outputs": [],
   "source": [
    "#for layer in model.layers:\n",
    "#    layer.trainable = True\n",
    "    \n",
    "#model.save('model1.h5')\n",
    "#model_json = model.to_json()\n",
    "#with open(\"model1.json\", \"w\") as json_file:\n",
    "#    json_file.write(model_json)"
   ]
  },
  {
   "cell_type": "code",
   "execution_count": null,
   "metadata": {
    "collapsed": false
   },
   "outputs": [],
   "source": [
    "#from keras.models import load_model, model_from_json\n",
    "\n",
    "#json_file = open('model.json', 'r')\n",
    "#loaded_model_json = json_file.read()\n",
    "#json_file.close()\n",
    "#loaded_model = model_from_json(loaded_model_json)\n",
    "# load weights into new model\n",
    "#model.load_weights(\"model.h5\")"
   ]
  },
  {
   "cell_type": "code",
   "execution_count": null,
   "metadata": {
    "collapsed": true
   },
   "outputs": [],
   "source": [
    "#for layer in model.layers:\n",
    "#    layer.trainable = True"
   ]
  },
  {
   "cell_type": "code",
   "execution_count": null,
   "metadata": {
    "collapsed": true
   },
   "outputs": [],
   "source": [
    "#json_file = open('model.json', 'r')\n",
    "#loaded_model_json = json_file.read()\n",
    "#json_file.close()\n",
    "#loaded_model = model_from_json(loaded_model_json)\n",
    "# load weights into new model\n",
    "#model.load_weights(\"model1.h5\")"
   ]
  }
 ],
 "metadata": {
  "anaconda-cloud": {},
  "kernelspec": {
   "display_name": "Python 3",
   "language": "python",
   "name": "python3"
  },
  "language_info": {
   "codemirror_mode": {
    "name": "ipython",
    "version": 3
   },
   "file_extension": ".py",
   "mimetype": "text/x-python",
   "name": "python",
   "nbconvert_exporter": "python",
   "pygments_lexer": "ipython3",
   "version": "3.5.2"
  },
  "widgets": {
   "state": {},
   "version": "1.1.2"
  }
 },
 "nbformat": 4,
 "nbformat_minor": 1
}
